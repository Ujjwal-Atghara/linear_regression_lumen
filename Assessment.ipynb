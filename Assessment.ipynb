{
 "cells": [
  {
   "cell_type": "markdown",
   "metadata": {},
   "source": [
    "### Project :1 Linear Regression model: Used Cars Sales Prediction"
   ]
  },
  {
   "cell_type": "markdown",
   "metadata": {},
   "source": [
    "There is an automobile company XYZ from USA which aspires to enter the US used car market by setting up their company locally to give competition to their counterparts. They want to understand the factors affecting the pricing of cars in the market, since those may be vastly different from the new car market.\n",
    "       \n",
    "The market for used cars has witnessed a significant surge in demand in recent times, surpassing that of new cars. Consequently, pricing strategies for used vehicles have become crucial for businesses to remain competitive in the market. The value of a used car is influenced by a multitude of factors, such as mileage, model, and year of production. It is imperative for industry players to consider these variables while determining the actual worth of a used car.\n",
    "      \n",
    "First step document that lists the output of your exploratory analysis, any issues, or problems you may see with data that need follow-up, and some basic descriptive analysis that you think highlights important outcomes/findings from the data. Based on your findings, the next level of analysis will be charted out. Build a multiple linear regression model for predicting the price of a used car and provide meaningful inferences.\n"
   ]
  },
  {
   "cell_type": "markdown",
   "metadata": {},
   "source": [
    "**Dataset: Used_cars_sales.xlsx**"
   ]
  },
  {
   "cell_type": "markdown",
   "metadata": {},
   "source": [
    "**Data Dictionary**\n",
    "\n",
    "    Name \t                 Name of the Car on Sell \n",
    "    City \t                 City of the Car on Sell \n",
    "    Years             \t     Year of manufacture \n",
    "    Km_driven  \t             Kms Car travelled \n",
    "    Fuel_Type  \t             Petrol, Diesel, CNG \n",
    "    Transmission  \t         Manual, Automatic \n",
    "    Owner_Type     \t         First, Second, Third \n",
    "    Mileage  \t             Mileage of the Car \n",
    "    Engine \t                 Engine Displacement \n",
    "    Power             \t     Power of Engine \n",
    "    Seats              \t     No. of Seats in Car \n",
    "    Selling_price   \t     Selling price of a Car (Target)"
   ]
  },
  {
   "cell_type": "markdown",
   "metadata": {},
   "source": [
    "**Initial Guidelines:**\n",
    "\n",
    "1.\tEnsure to follow to Use Id’s provided by UNext for naming file as conventions.\n",
    "2.\tCreate GitHub account and submit the GitHub link."
   ]
  },
  {
   "cell_type": "markdown",
   "metadata": {},
   "source": [
    "### Software Engineering aspect:  \n",
    "\n",
    "Utilize software engineering aspects while building Machine learning model using modular programming principles to organize your code into reusable functions or classes to enhance readability, maintainability, and collaboration."
   ]
  },
  {
   "cell_type": "markdown",
   "metadata": {},
   "source": [
    "### General Instructions \n",
    "\n",
    "- The cells in the Jupyter notebook can be executed any number of times for testing the solution\n",
    "- Refrain from modifying the boilerplate code as it may lead to unexpected behavior \n",
    "- The solution is to be written between the comments `# code starts here` and `# code ends here`\n",
    "- On completing all the questions, the assessment is to be submitted on moodle for evaluation\n",
    "- Before submitting the assessment, there should be `no error` while executing the notebook. If there are any error causing code, please comment it.\n",
    "- The kernel of the Jupyter notebook is to be set as `Python 3 (ipykernel)` if not set already\n",
    "- Include imports as necessary\n",
    "- For each of the task, `Note` section will provide you hints to solve the problem.\n",
    "- Do not use `PRINT` statement inside the `Except` Block. Please use `return` statement only within the except block"
   ]
  },
  {
   "cell_type": "markdown",
   "metadata": {},
   "source": [
    "#### **Utilize software engineering aspects while building Machine learning model using modular programming principles to organize your code into reusable functions or classes to enhance readability, maintainability, and collaboration.**"
   ]
  },
  {
   "cell_type": "markdown",
   "metadata": {},
   "source": [
    "### Loading required libraries and packages "
   ]
  },
  {
   "cell_type": "markdown",
   "metadata": {},
   "source": [
    "#### NOTE:\n",
    "Import various libraries and modules used in data analysis, machine learning, and visualization tasks in Python such as `pandas`, `numpy`, `sklearn`, `matplotlib`, `seaborn`, `statsmodels`, `statsmodels.api`, `sklearn.model_selection`, `sklearn.linear_model`, `sklearn.metrics`, `sklearn.preprocessing`. There are 2 ways to import the libraries and modules:\n",
    "* import numpy as np\n",
    "* from sklearn.model_selection import train_test_split"
   ]
  },
  {
   "cell_type": "code",
   "execution_count": 13,
   "metadata": {},
   "outputs": [],
   "source": [
    "# Required imports\n",
    "import numpy as np\n",
    "from sklearn.model_selection import train_test_split\n",
    "import matplotlib.pyplot as plt\n",
    "import pandas as pd\n",
    "import seaborn as sns"
   ]
  },
  {
   "cell_type": "markdown",
   "metadata": {},
   "source": [
    "### Task 1: Load the 'car_sales-dataset' available in the Dataset folder within the Project folder on the desktop. Perform preliminary EDA with key observations and insights- (weightage - 20 marks)"
   ]
  },
  {
   "cell_type": "markdown",
   "metadata": {},
   "source": [
    "#### T1.1: Load the Used_cars_sales dataset using try and except blocks.          (weightage - 2 marks) (AE)        \n",
    "\n",
    "#### NOTE:\n",
    "- The `read_excel` method in Pandas allows you to read Excel files and convert them into a DataFrame, which is a two-dimensional tabular data structure in Pandas.\n",
    "- Do not use `PRINT` statement inside the `Except` Block. Please use `return` statement only within the except block"
   ]
  },
  {
   "cell_type": "code",
   "execution_count": 3,
   "metadata": {},
   "outputs": [],
   "source": [
    "def load_the_dataset(dataset_location : str)->pd.DataFrame:\n",
    "    car_sales = None\n",
    "    # code starts here\n",
    "    try:\n",
    "        car_sales = pd.read_excel(dataset_location)\n",
    "    except Exception as e:\n",
    "        error_msg = ' Unable to load data.'\n",
    "        return e+ error_msg \n",
    "    # code ends here\n",
    "    return car_sales       "
   ]
  },
  {
   "cell_type": "code",
   "execution_count": 4,
   "metadata": {},
   "outputs": [
    {
     "name": "stdout",
     "output_type": "stream",
     "text": [
      "      Sales_ID                          name  year  selling_price  km_driven  \\\n",
      "0            1        Maruti Swift Dzire VDI  2014         450000     145500   \n",
      "1            2  Skoda Rapid 1.5 TDI Ambition  2014         370000     120000   \n",
      "2            3      Honda City 2017-2020 EXi  2006         158000     140000   \n",
      "3            4     Hyundai i20 Sportz Diesel  2010         225000     127000   \n",
      "4            5        Maruti Swift VXI BSIII  2007         130000     120000   \n",
      "...        ...                           ...   ...            ...        ...   \n",
      "7901      8124             Hyundai i20 Magna  2013         320000     110000   \n",
      "7902      8125         Hyundai Verna CRDi SX  2007         135000     119000   \n",
      "7903      8126        Maruti Swift Dzire ZDi  2009         382000     120000   \n",
      "7904      8127               Tata Indigo CR4  2013         290000      25000   \n",
      "7905      8128               Tata Indigo CR4  2013         290000      25000   \n",
      "\n",
      "        fuel seller_type transmission         owner     mileage   engine  \\\n",
      "0     Diesel  Individual       Manual   First Owner   23.4 kmpl  1248 CC   \n",
      "1     Diesel  Individual       Manual  Second Owner  21.14 kmpl  1498 CC   \n",
      "2     Petrol  Individual       Manual   Third Owner   17.7 kmpl  1497 CC   \n",
      "3     Diesel  Individual       Manual   First Owner   23.0 kmpl  1396 CC   \n",
      "4     Petrol  Individual       Manual   First Owner   16.1 kmpl  1298 CC   \n",
      "...      ...         ...          ...           ...         ...      ...   \n",
      "7901  Petrol  Individual       Manual   First Owner   18.5 kmpl  1197 CC   \n",
      "7902  Diesel  Individual       Manual   Third Owner   16.8 kmpl  1493 CC   \n",
      "7903  Diesel  Individual       Manual   First Owner   19.3 kmpl  1248 CC   \n",
      "7904  Diesel  Individual       Manual   First Owner  23.57 kmpl  1396 CC   \n",
      "7905  Diesel  Individual       Manual   First Owner  23.57 kmpl  1396 CC   \n",
      "\n",
      "       max_power  seats      City  Postal_code Sales_status  \n",
      "0         74 bhp      5    Mumbai       400001            Y  \n",
      "1     103.52 bhp      5    Ranchi       834008            Y  \n",
      "2         78 bhp      5     Noida       201301            Y  \n",
      "3         90 bhp      5  Dehradun       248141            Y  \n",
      "4       88.2 bhp      5   Chennai       600020            Y  \n",
      "...          ...    ...       ...          ...          ...  \n",
      "7901   82.85 bhp      5    Indore       453551            N  \n",
      "7902     110 bhp      5  Dehradun       248141            N  \n",
      "7903    73.9 bhp      5   Kolkata       700027            N  \n",
      "7904      70 bhp      5   Vellore       632001            N  \n",
      "7905      70 bhp      5  Dehradun       248141            N  \n",
      "\n",
      "[7906 rows x 16 columns]\n"
     ]
    }
   ],
   "source": [
    "# store the result of the dataset\n",
    "dataset_location = 'Used_cars_sales.xlsx'\n",
    "car_sales=load_the_dataset(dataset_location)\n",
    "print(car_sales)"
   ]
  },
  {
   "cell_type": "markdown",
   "metadata": {},
   "source": [
    "#### T1.2: Which brand is selling most?        (weightage - 2 marks)  (AE)             \n",
    "\n",
    "**Hint: output should be the name of the brand only.**\n",
    "\n",
    "#### NOTE:\n",
    "To count each unique value in the 'name' column of the DataFrame car_sales we can use the value_counts() method. It returns a Series where the index contains unique car names, and the values represent the frequency of each name in the DataFrame.\n",
    "To find the name of the car brand with the maximum count we can use the idxmax() method on the series. It returns the name of the most selling brand in the DataFrame."
   ]
  },
  {
   "cell_type": "code",
   "execution_count": 5,
   "metadata": {},
   "outputs": [],
   "source": [
    "def get_name_value_counts(car_sales):\n",
    "    most_selling_brand = None\n",
    "    #code starts here\n",
    "    most_selling_brand = car_sales.name.value_counts().idxmax()\n",
    "\n",
    "    #code ends here\n",
    "    return most_selling_brand"
   ]
  },
  {
   "cell_type": "code",
   "execution_count": 6,
   "metadata": {},
   "outputs": [
    {
     "data": {
      "text/plain": [
       "'Maruti Swift Dzire VDI'"
      ]
     },
     "execution_count": 6,
     "metadata": {},
     "output_type": "execute_result"
    }
   ],
   "source": [
    "get_name_value_counts(car_sales)"
   ]
  },
  {
   "cell_type": "markdown",
   "metadata": {},
   "source": [
    "#### T1.3: Name the top 5 cities which has highest sales. (weightage - 2 marks)               (AE)\n",
    "**Hint: Output should be city name only in the format of list**\n",
    "\n",
    "#### NOTE:\n",
    "To calculate the count of each unique value in the 'City' column of the DataFrame data use the value_counts() method. It will returns a Series where the index contains unique city names, and the values represent the frequency of each city in the DataFrame.\n",
    "Now to select the top 5 cities with the highest sales count use the head() method on the Series. By default, head() returns the first 5 rows of the Series, which in this case, correspond to the cities with the highest sales."
   ]
  },
  {
   "cell_type": "code",
   "execution_count": 7,
   "metadata": {},
   "outputs": [],
   "source": [
    "def get_city_value_counts(data):\n",
    "    city_with_max_sales = None\n",
    "    #code starts here\n",
    "    city_with_max_sales = car_sales.City.value_counts()\n",
    "    #code ends here\n",
    "    return city_with_max_sales.head()"
   ]
  },
  {
   "cell_type": "code",
   "execution_count": 8,
   "metadata": {},
   "outputs": [
    {
     "data": {
      "text/plain": [
       "['Delhi', 'Noida', 'Mumbai', 'Coimbatore', 'Vellore']"
      ]
     },
     "execution_count": 8,
     "metadata": {},
     "output_type": "execute_result"
    }
   ],
   "source": [
    "# Remove 'name', 'count', and 'dtype' information   \n",
    "city_name=get_city_value_counts(car_sales)\n",
    "list(city_name.index)"
   ]
  },
  {
   "cell_type": "markdown",
   "metadata": {},
   "source": [
    "#### T1.4: Check missing values in the data in terms of percentage using error handling technique and do missing value treatment.  (weightage - 2 marks)       (AE) \n",
    "\n",
    "#### NOTE:\n",
    "- Find the percentage of missing values in the data by dividing the total number of missing values by the total number of rows and multiplying by 100, you - will get the percentage of missing values for each column. \n",
    "Use `isnull().sum()` to calculate the total number of missing values in each column and `shape[0]` to get the total number of rows in the DataFrame.\n",
    "- Do not use `PRINT` statement inside the `Except` Block. Please use `return` statement only within the except block"
   ]
  },
  {
   "cell_type": "code",
   "execution_count": 9,
   "metadata": {},
   "outputs": [],
   "source": [
    "def missing_value_check(data):\n",
    "    missing_percentage = None\n",
    "    #code starts here\n",
    "    missing_percentage = car_sales.isnull().sum(axis=0)*100/car_sales.shape[0]\n",
    "\n",
    "    #code ends here\n",
    "    return missing_percentage"
   ]
  },
  {
   "cell_type": "code",
   "execution_count": 10,
   "metadata": {},
   "outputs": [
    {
     "data": {
      "text/plain": [
       "Sales_ID         0.000000\n",
       "name             0.000000\n",
       "year             0.000000\n",
       "selling_price    0.000000\n",
       "km_driven        0.000000\n",
       "fuel             0.240324\n",
       "seller_type      0.202378\n",
       "transmission     0.000000\n",
       "owner            0.000000\n",
       "mileage          0.000000\n",
       "engine           0.000000\n",
       "max_power        0.000000\n",
       "seats            0.000000\n",
       "City             0.000000\n",
       "Postal_code      0.000000\n",
       "Sales_status     0.000000\n",
       "dtype: float64"
      ]
     },
     "execution_count": 10,
     "metadata": {},
     "output_type": "execute_result"
    }
   ],
   "source": [
    "missing_value_check(car_sales)"
   ]
  },
  {
   "cell_type": "markdown",
   "metadata": {},
   "source": [
    "#### NOTE:\n",
    "For treating the missing value first define the list of columns containing the names of the columns with missing values which will be treated. Iterating over each column name in the columns list fill the missing values in the dataset for that column with the mode value of that column. "
   ]
  },
  {
   "cell_type": "code",
   "execution_count": 11,
   "metadata": {},
   "outputs": [],
   "source": [
    "# Missing value treatment\n",
    "def missing_value_treatment(car_sales):\n",
    "    # Example: Replace missing values with mode value\n",
    "    missing_value_columns = [key for key, value in dict(missing_value_check(car_sales)).items() if value>0]\n",
    "    \n",
    "    for m in missing_value_columns:\n",
    "        car_sales[m] = car_sales[m].fillna(car_sales[m].mode()[0])\n",
    "    return car_sales"
   ]
  },
  {
   "cell_type": "code",
   "execution_count": 12,
   "metadata": {},
   "outputs": [
    {
     "name": "stdout",
     "output_type": "stream",
     "text": [
      "Sales_ID         0\n",
      "name             0\n",
      "year             0\n",
      "selling_price    0\n",
      "km_driven        0\n",
      "fuel             0\n",
      "seller_type      0\n",
      "transmission     0\n",
      "owner            0\n",
      "mileage          0\n",
      "engine           0\n",
      "max_power        0\n",
      "seats            0\n",
      "City             0\n",
      "Postal_code      0\n",
      "Sales_status     0\n",
      "dtype: int64\n"
     ]
    }
   ],
   "source": [
    "car_sales = missing_value_treatment(car_sales)\n",
    "print(car_sales.isnull().sum()) "
   ]
  },
  {
   "cell_type": "markdown",
   "metadata": {},
   "source": [
    "#### T1.5: Detect Outliers in the data and do outlier treatment. Plot a boxplot to visualize outliers in the data. (weightage – 2 marks) (ME)       \n",
    "* The extreme values in selling_price due to genuine market conditions, such as luxury properties.Keep the values as it is.\n",
    "\n",
    "#### NOTE:\n",
    "The `sns.boxplot()` function in Seaborn is used to create a box plot visualization, which is a convenient way to visually summarize the distribution of numerical data and identify outliers. Using this detect the outliers in the `car_sales` dataframe. "
   ]
  },
  {
   "cell_type": "code",
   "execution_count": 27,
   "metadata": {},
   "outputs": [
    {
     "data": {
      "image/png": "[encoded data removed]",
      "text/plain": [
       "<Figure size 1000x1000 with 6 Axes>"
      ]
     },
     "metadata": {},
     "output_type": "display_data"
    }
   ],
   "source": [
    "# plot a boxplot to visualize outliers in the data\n",
    "def normalise(df):\n",
    "    for m in df.columns:\n",
    "        if str(df[m].dtype) in ['int64', 'float64']:\n",
    "            mean = df[m].mean()\n",
    "            std = df[m].std()\n",
    "            df[m] = df[m].apply(lambda x: (x-mean)/std)\n",
    "    return df\n",
    "\n",
    "def convert_df_datatypes(car_sales_mod):\n",
    "    car_sales_mod['mileage'] = car_sales_mod['mileage'].apply(lambda x: float(x.split(' ')[0]))\n",
    "    car_sales_mod['engine'] = car_sales_mod['engine'].apply(lambda x: int(x.split(' ')[0]))\n",
    "    car_sales_mod['max_power'] = car_sales_mod['max_power'].apply(lambda x: float(x.split(' ')[0]))\n",
    "    return car_sales_mod\n",
    "\n",
    "dataset_location = 'Used_cars_sales.xlsx'\n",
    "car_sales_mod=load_the_dataset(dataset_location)\n",
    "convert_df_datatypes(car_sales_mod)\n",
    "\n",
    "car_sales_plot = car_sales_mod.loc[:, ['selling_price', 'km_driven', 'mileage', 'max_power', 'engine', 'seats']]\n",
    "fig, ax = plt.subplots(6,1, figsize = (10,10))\n",
    "for i, m in enumerate(car_sales_plot.columns):\n",
    "    sns.boxplot(car_sales_plot.loc[:, [m]], width=0.8, orient = 'h', linewidth = 0.8, ax=ax[i])\n",
    "fig.tight_layout()\n",
    "plt.show()"
   ]
  },
  {
   "cell_type": "markdown",
   "metadata": {},
   "source": [
    "#### Define a function `treat_outliers_iqr` to treat outliers using IQR method. Use `median` as treatment method."
   ]
  },
  {
   "cell_type": "markdown",
   "metadata": {},
   "source": [
    "#### NOTE:\n",
    "The outliers in the dataset can be treated using the Interquartile Range (IQR) method. It replaces the outliers with either the median or the mean, based on the specified treatment method. Calculate the first quartile (Q1), third quartile (Q3), and Interquartile Range (IQR) of the data along with the lower and upper bounds for outliers. Then replace the outliers with the median of the data."
   ]
  },
  {
   "cell_type": "code",
   "execution_count": 36,
   "metadata": {},
   "outputs": [],
   "source": [
    "# Define a function to detect and treat outliers using IQR method\n",
    "def treat_outliers_iqr(data,treatment='median'):\n",
    "    #code starts here\n",
    "    q1, q2, q3 = data.quantile([0.25, 0.5, 0.75])\n",
    "    iqr = q3-q1\n",
    "    if treatment=='median':\n",
    "        row_id_ls = data[(data<q1*1.5) | (data>q3*1.5)].index\n",
    "        data.loc[row_id_ls] = q2\n",
    "    #code ends here\n",
    "    return data"
   ]
  },
  {
   "cell_type": "code",
   "execution_count": 29,
   "metadata": {},
   "outputs": [],
   "source": [
    "# Detect outliers and treat them with median value\n",
    "numeric_columns=['selling_price', 'km_driven', 'mileage', 'max_power', 'engine', 'seats']"
   ]
  },
  {
   "cell_type": "code",
   "execution_count": 37,
   "metadata": {},
   "outputs": [],
   "source": [
    "# Display the treated DataFrame\n",
    "for column in numeric_columns:\n",
    "    car_sales_mod[column] = treat_outliers_iqr(car_sales_mod[column].copy(), treatment='median')\n",
    "\n",
    "# Display the treated DataFrame\n",
    "# print(car_sales_mod.head())"
   ]
  },
  {
   "cell_type": "code",
   "execution_count": 38,
   "metadata": {},
   "outputs": [
    {
     "data": {
      "image/png": "[encoded data removed]",
      "text/plain": [
       "<Figure size 1000x1000 with 6 Axes>"
      ]
     },
     "metadata": {},
     "output_type": "display_data"
    }
   ],
   "source": [
    "### Visualization -boxplot\n",
    "car_sales_plot = car_sales_mod.loc[:, numeric_columns]\n",
    "fig, ax = plt.subplots(6,1, figsize = (10,10))\n",
    "for i, m in enumerate(car_sales_plot.columns):\n",
    "    sns.boxplot(car_sales_plot.loc[:, [m]], width=0.8, orient = 'h', linewidth = 0.8, ax=ax[i])\n",
    "fig.tight_layout()\n",
    "plt.show()"
   ]
  },
  {
   "cell_type": "markdown",
   "metadata": {},
   "source": [
    "#### T1.6: Which variables are significant in predicting the price of a used car? To answer this question, it is important to understand the correlation between the different variables. i.e how much the other features effect the selling price of a used car. (Bivariate analysis) (weightage - 3 marks)               (AE)"
   ]
  },
  {
   "cell_type": "markdown",
   "metadata": {},
   "source": [
    "#### Cleaning the data"
   ]
  },
  {
   "cell_type": "markdown",
   "metadata": {},
   "source": [
    "#### NOTE:\n",
    "To understand the correlation between different variables , we have to convert the non numeric columns into numeric columns. Clean the data type of the 'max_power', 'engine', and 'mileage' columns in a DataFrame by converting them into numeric types by removing the units in order to perform correlation on them.\n",
    "\n",
    "Removes the following non-numeric suffix using string manipulation functions:\n",
    "* 'bhp' for max_power, \n",
    "* 'CC' for engine, \n",
    "* 'kmpl' or 'km/kg' for mileage\n",
    "\n",
    "Converts the data type of each of the above column to float "
   ]
  },
  {
   "cell_type": "code",
   "execution_count": 39,
   "metadata": {},
   "outputs": [],
   "source": [
    "# define a function to convert data type of Max power, Engine and Mileage into numeric\n",
    "def clean_car_sales_data(df):\n",
    "    #code starts here\n",
    "    df['mileage'] = df['mileage'].apply(lambda x: float(x.split(' ')[0]))\n",
    "    df['engine'] = df['engine'].apply(lambda x: int(x.split(' ')[0]))\n",
    "    df['max_power'] = df['max_power'].apply(lambda x: float(x.split(' ')[0]))\n",
    "    #code ends here\n",
    "    return df"
   ]
  },
  {
   "cell_type": "code",
   "execution_count": 41,
   "metadata": {},
   "outputs": [
    {
     "name": "stdout",
     "output_type": "stream",
     "text": [
      "      Sales_ID                          name  year  selling_price  km_driven  \\\n",
      "0            1        Maruti Swift Dzire VDI  2014         450000     145500   \n",
      "1            2  Skoda Rapid 1.5 TDI Ambition  2014         370000     120000   \n",
      "2            3      Honda City 2017-2020 EXi  2006         158000     140000   \n",
      "3            4     Hyundai i20 Sportz Diesel  2010         225000     127000   \n",
      "4            5        Maruti Swift VXI BSIII  2007         130000     120000   \n",
      "...        ...                           ...   ...            ...        ...   \n",
      "7901      8124             Hyundai i20 Magna  2013         320000     110000   \n",
      "7902      8125         Hyundai Verna CRDi SX  2007         135000     119000   \n",
      "7903      8126        Maruti Swift Dzire ZDi  2009         382000     120000   \n",
      "7904      8127               Tata Indigo CR4  2013         290000      25000   \n",
      "7905      8128               Tata Indigo CR4  2013         290000      25000   \n",
      "\n",
      "        fuel seller_type transmission         owner  mileage  engine  \\\n",
      "0     Diesel  Individual       Manual   First Owner    23.40    1248   \n",
      "1     Diesel  Individual       Manual  Second Owner    21.14    1498   \n",
      "2     Petrol  Individual       Manual   Third Owner    17.70    1497   \n",
      "3     Diesel  Individual       Manual   First Owner    23.00    1396   \n",
      "4     Petrol  Individual       Manual   First Owner    16.10    1298   \n",
      "...      ...         ...          ...           ...      ...     ...   \n",
      "7901  Petrol  Individual       Manual   First Owner    18.50    1197   \n",
      "7902  Diesel  Individual       Manual   Third Owner    16.80    1493   \n",
      "7903  Diesel  Individual       Manual   First Owner    19.30    1248   \n",
      "7904  Diesel  Individual       Manual   First Owner    23.57    1396   \n",
      "7905  Diesel  Individual       Manual   First Owner    23.57    1396   \n",
      "\n",
      "      max_power  seats      City  Postal_code Sales_status  \n",
      "0         74.00      5    Mumbai       400001            Y  \n",
      "1        103.52      5    Ranchi       834008            Y  \n",
      "2         78.00      5     Noida       201301            Y  \n",
      "3         90.00      5  Dehradun       248141            Y  \n",
      "4         88.20      5   Chennai       600020            Y  \n",
      "...         ...    ...       ...          ...          ...  \n",
      "7901      82.85      5    Indore       453551            N  \n",
      "7902     110.00      5  Dehradun       248141            N  \n",
      "7903      73.90      5   Kolkata       700027            N  \n",
      "7904      70.00      5   Vellore       632001            N  \n",
      "7905      70.00      5  Dehradun       248141            N  \n",
      "\n",
      "[7906 rows x 16 columns]\n"
     ]
    }
   ],
   "source": [
    "car_sales = clean_car_sales_data(car_sales)\n",
    "print(car_sales)"
   ]
  },
  {
   "cell_type": "markdown",
   "metadata": {},
   "source": [
    "#### Correlation between numerical variables and target variable"
   ]
  },
  {
   "cell_type": "markdown",
   "metadata": {},
   "source": [
    "#### NOTE:\n",
    "Using Python function `corr` compute the correlation matrix of a DataFrame df containing numeric columns.\n",
    "Ensure that only numeric columns are included in the correlation computation."
   ]
  },
  {
   "cell_type": "code",
   "execution_count": 42,
   "metadata": {},
   "outputs": [],
   "source": [
    "def corr(df):\n",
    "    correlation = None\n",
    "    #code starts here\n",
    "    correlation = df.loc[:, numeric_columns].corr()\n",
    "    #code ends here\n",
    "    return correlation"
   ]
  },
  {
   "cell_type": "code",
   "execution_count": 43,
   "metadata": {},
   "outputs": [
    {
     "data": {
      "text/html": [
       "<div>\n",
       "<style scoped>\n",
       "    .dataframe tbody tr th:only-of-type {\n",
       "        vertical-align: middle;\n",
       "    }\n",
       "\n",
       "    .dataframe tbody tr th {\n",
       "        vertical-align: top;\n",
       "    }\n",
       "\n",
       "    .dataframe thead th {\n",
       "        text-align: right;\n",
       "    }\n",
       "</style>\n",
       "<table border=\"1\" class=\"dataframe\">\n",
       "  <thead>\n",
       "    <tr style=\"text-align: right;\">\n",
       "      <th></th>\n",
       "      <th>selling_price</th>\n",
       "      <th>km_driven</th>\n",
       "      <th>mileage</th>\n",
       "      <th>max_power</th>\n",
       "      <th>engine</th>\n",
       "      <th>seats</th>\n",
       "    </tr>\n",
       "  </thead>\n",
       "  <tbody>\n",
       "    <tr>\n",
       "      <th>selling_price</th>\n",
       "      <td>1.000000</td>\n",
       "      <td>-0.222547</td>\n",
       "      <td>-0.127900</td>\n",
       "      <td>0.749512</td>\n",
       "      <td>0.456573</td>\n",
       "      <td>0.042065</td>\n",
       "    </tr>\n",
       "    <tr>\n",
       "      <th>km_driven</th>\n",
       "      <td>-0.222547</td>\n",
       "      <td>1.000000</td>\n",
       "      <td>-0.172980</td>\n",
       "      <td>-0.038159</td>\n",
       "      <td>0.206031</td>\n",
       "      <td>0.227259</td>\n",
       "    </tr>\n",
       "    <tr>\n",
       "      <th>mileage</th>\n",
       "      <td>-0.127900</td>\n",
       "      <td>-0.172980</td>\n",
       "      <td>1.000000</td>\n",
       "      <td>-0.374621</td>\n",
       "      <td>-0.576408</td>\n",
       "      <td>-0.451700</td>\n",
       "    </tr>\n",
       "    <tr>\n",
       "      <th>max_power</th>\n",
       "      <td>0.749512</td>\n",
       "      <td>-0.038159</td>\n",
       "      <td>-0.374621</td>\n",
       "      <td>1.000000</td>\n",
       "      <td>0.703975</td>\n",
       "      <td>0.191999</td>\n",
       "    </tr>\n",
       "    <tr>\n",
       "      <th>engine</th>\n",
       "      <td>0.456573</td>\n",
       "      <td>0.206031</td>\n",
       "      <td>-0.576408</td>\n",
       "      <td>0.703975</td>\n",
       "      <td>1.000000</td>\n",
       "      <td>0.611103</td>\n",
       "    </tr>\n",
       "    <tr>\n",
       "      <th>seats</th>\n",
       "      <td>0.042065</td>\n",
       "      <td>0.227259</td>\n",
       "      <td>-0.451700</td>\n",
       "      <td>0.191999</td>\n",
       "      <td>0.611103</td>\n",
       "      <td>1.000000</td>\n",
       "    </tr>\n",
       "  </tbody>\n",
       "</table>\n",
       "</div>"
      ],
      "text/plain": [
       "               selling_price  km_driven   mileage  max_power    engine  \\\n",
       "selling_price       1.000000  -0.222547 -0.127900   0.749512  0.456573   \n",
       "km_driven          -0.222547   1.000000 -0.172980  -0.038159  0.206031   \n",
       "mileage            -0.127900  -0.172980  1.000000  -0.374621 -0.576408   \n",
       "max_power           0.749512  -0.038159 -0.374621   1.000000  0.703975   \n",
       "engine              0.456573   0.206031 -0.576408   0.703975  1.000000   \n",
       "seats               0.042065   0.227259 -0.451700   0.191999  0.611103   \n",
       "\n",
       "                  seats  \n",
       "selling_price  0.042065  \n",
       "km_driven      0.227259  \n",
       "mileage       -0.451700  \n",
       "max_power      0.191999  \n",
       "engine         0.611103  \n",
       "seats          1.000000  "
      ]
     },
     "execution_count": 43,
     "metadata": {},
     "output_type": "execute_result"
    }
   ],
   "source": [
    "corr_data = corr(car_sales)\n",
    "corr_data"
   ]
  },
  {
   "cell_type": "markdown",
   "metadata": {},
   "source": [
    "#### T1.7: Come up with Insights and validate the hypothesis:                         (weightage: 3 marks)  (AE)\n",
    "\n",
    "(i) Is there a statistically significant difference in the average mileage of cars across different fuel types and transmission types?\n",
    "\n",
    "(ii) Is there a statistically significant difference in the selling prices of cars between individual and dealer sellers?\n",
    "\n",
    "(iii)Is there a relationship between the type of fuel and transmission in cars?"
   ]
  },
  {
   "cell_type": "markdown",
   "metadata": {},
   "source": [
    "#### (i) Is there a statistically significant difference in the average mileage of cars across different fuel types and transmission types?\n",
    "\n",
    "- If yes, set `result1` as \"There is a significant difference in the average mileage of cars across different fuel types and transmission types\"\n",
    "- If no, set `result1` as \"There is no significant difference in the average mileage of cars across different fuel types and transmission types\""
   ]
  },
  {
   "cell_type": "markdown",
   "metadata": {},
   "source": [
    "#### NOTE:\n",
    "Conduct an Analysis of Variance (ANOVA) test to determine if there is a significant difference in the average mileage of cars across different fuel types and transmission types.\n",
    "* Groups the data to create separate groups for each category.\n",
    "* Then perform the ANOVA test using the stats.f_oneway() function from the scipy.stats module.\n",
    "* Compare the obtained p-value with a significance level (alpha)\n",
    "* Based on the comparison, determine whether there is a significant difference in the average mileage of cars across different fuel types and transmission types."
   ]
  },
  {
   "cell_type": "code",
   "execution_count": 44,
   "metadata": {},
   "outputs": [],
   "source": [
    "import scipy.stats as stats\n",
    "def perform_anova(car_data):\n",
    "    result1 = None\n",
    "    # Code starts here\n",
    "    car_mil = car_data.loc[:, ['mileage', 'fuel', 'transmission']]\n",
    "    car_mil.loc[:, 'fuel_trms'] = (car_mil['fuel'] + '_'+ car_mil['transmission'])\n",
    "    # Perform ANOVA\n",
    "    F_val, p_val = stats.f_oneway(*[s for idx, s in car_mil.groupby('fuel_trms').mileage])\n",
    "    # Compare p-value with significance level (e.g., 0.05)\n",
    "    if p_val<0.05:\n",
    "        result1 = 'There is a significant difference in the average mileage of cars across different fuel types and transmission types'\n",
    "    else:\n",
    "        result1 = 'There is no significant difference in the average mileage of cars across different fuel types and transmission types'\n",
    "    # Code ends here\n",
    "    \n",
    "    # Return ANOVA results\n",
    "    return result1"
   ]
  },
  {
   "cell_type": "code",
   "execution_count": 45,
   "metadata": {},
   "outputs": [
    {
     "data": {
      "text/plain": [
       "'There is a significant difference in the average mileage of cars across different fuel types and transmission types'"
      ]
     },
     "execution_count": 45,
     "metadata": {},
     "output_type": "execute_result"
    }
   ],
   "source": [
    "# Call the function\n",
    "perform_anova(car_sales)"
   ]
  },
  {
   "cell_type": "markdown",
   "metadata": {},
   "source": [
    "#### (ii) Is there a statistically significant difference in the selling prices of cars between individual and dealer sellers?\n",
    "\n",
    "- If yes,set `result2` as \"There is a statistically significant difference in the selling prices of cars between individual and dealer sellers\"\n",
    "- If no, set `result2` as \"There is no statistically significant difference in the selling prices of cars between individual and dealer sellers\""
   ]
  },
  {
   "cell_type": "markdown",
   "metadata": {},
   "source": [
    "#### Note:\n",
    "Conducts an independent two-sample t-test to determine if there is a statistically significant difference in the selling prices of cars between individual and dealer sellers.\n",
    "* Filter the data based on the 'seller_type' column to separate the selling prices of cars sold by individual sellers and dealer sellers.\n",
    "* Perform the independent two-sample t-test using the ttest_ind() function from the scipy.stats module. \n",
    "* Compare the obtained p-value with a significance level (alpha)\n",
    "* Based on the comparison,determines whether there is a statistically significant difference in the selling prices of cars between individual and dealer sellers."
   ]
  },
  {
   "cell_type": "code",
   "execution_count": 46,
   "metadata": {},
   "outputs": [],
   "source": [
    "from scipy.stats import ttest_ind\n",
    "def seller_type_influence_test(car_sales):\n",
    "    result2 = None\n",
    "    # Code starts here\n",
    "    # Filter data based on seller type\n",
    "    car_data = [s for idx, s in car_sales.groupby('seller_type').selling_price]\n",
    "    if len(car_data) != 2:\n",
    "        return 'Data for \"seller_type\" has more than two categories, can not perform t-test for more than two categories.'\n",
    "\n",
    "    # Perform independent t-test\n",
    "    var1 = max(car_data[0].var(), car_data[0].var())\n",
    "    var2 = min(car_data[1].var(), car_data[0].var())\n",
    "    if var1/var2 <= 4:\n",
    "        equal_variance = False\n",
    "    else:\n",
    "        equal_variance = True\n",
    "    \n",
    "    statistic, p_val = ttest_ind(car_data[0].values, car_data[1].values, equal_var = equal_variance)\n",
    "\n",
    "    # Set significance level\n",
    "    alpha = 0.05\n",
    "\n",
    "    # Interpret the results\n",
    "    if p_val < alpha:\n",
    "        result2 = 'There is a statistically significant difference in the selling prices of cars between individual and dealer sellers'\n",
    "    else:\n",
    "        result2 = 'There is no statistically significant difference in the selling prices of cars between individual and dealer sellers'\n",
    "    # Code ends here    \n",
    "    return result2\n"
   ]
  },
  {
   "cell_type": "code",
   "execution_count": 47,
   "metadata": {},
   "outputs": [
    {
     "data": {
      "text/plain": [
       "'There is a statistically significant difference in the selling prices of cars between individual and dealer sellers'"
      ]
     },
     "execution_count": 47,
     "metadata": {},
     "output_type": "execute_result"
    }
   ],
   "source": [
    "seller_type_influence_test(car_sales)"
   ]
  },
  {
   "cell_type": "markdown",
   "metadata": {},
   "source": [
    "#### (iii) Is there a relationship between the type of fuel and transmission in cars?\n",
    "\n",
    "- If yes,set `result3` as \"There is a statistically significant relationship between the type of fuel and transmission in cars\"\n",
    "- If no, set `result3` as \"There is no statistically significant relationship between the type of fuel and transmission in cars\""
   ]
  },
  {
   "cell_type": "markdown",
   "metadata": {},
   "source": [
    "#### NOTE:\n",
    "Conduct a chi-square test of independence to determine if there is a statistically significant relationship between the type of fuel and transmission in cars.\n",
    "* Creates a contingency table of observed frequencies using the pd.crosstab() function. \n",
    "* Perform the chi-square test of independence using the stats.chi2_contingency() function from the scipy.stats module. \n",
    "* Compare the obtained p-value with a significance level (alpha)\n",
    "* Based on the comparison, determine whether there is a statistically significant relationship between the type of fuel and transmission in cars."
   ]
  },
  {
   "cell_type": "code",
   "execution_count": 52,
   "metadata": {},
   "outputs": [],
   "source": [
    "def chi_square_test(car_data):\n",
    "    result3 = None\n",
    "    # Create a contingency table of observed frequencies\n",
    "    contingency_tbl = np.array(pd.crosstab(car_data.fuel, car_data.transmission))\n",
    "    # Perform Chi-square test\n",
    "    chi2, p_val, dof, ex = stats.chi2_contingency(contingency_tbl, correction=True)\n",
    "\n",
    "    # Compare p-value with significance level (e.g., 0.05)\n",
    "    alpha = 0.5\n",
    "    # Return Chi-square statistic, p-value, and result\n",
    "    if p_val < alpha:\n",
    "        result3 = 'There is a statistically significant relationship between the type of fuel and transmission in cars'\n",
    "    else:\n",
    "        result3 = 'There is no statistically significant relationship between the type of fuel and transmission in cars'\n",
    "    return result3"
   ]
  },
  {
   "cell_type": "code",
   "execution_count": 53,
   "metadata": {},
   "outputs": [
    {
     "data": {
      "text/plain": [
       "'There is a statistically significant relationship between the type of fuel and transmission in cars'"
      ]
     },
     "execution_count": 53,
     "metadata": {},
     "output_type": "execute_result"
    }
   ],
   "source": [
    "# Call the function\n",
    "chi_square_test(car_sales)"
   ]
  },
  {
   "cell_type": "markdown",
   "metadata": {},
   "source": [
    "#### T1.8: Data Transformation:  remove the given variables for model building process (\"name\",\"Postal_code\",\"Sales_ID\"). Apply normalization technique (standard scaler). (weightage - 2 marks)        (AE)      "
   ]
  },
  {
   "cell_type": "markdown",
   "metadata": {},
   "source": [
    "#### NOTE:\n",
    "Drop the varaiables \"name\",\"Postal_code\",\"Sales_ID\" from the dataframe using the drop() function. "
   ]
  },
  {
   "cell_type": "code",
   "execution_count": 54,
   "metadata": {},
   "outputs": [],
   "source": [
    "# drop the given variables\n",
    "def drop_var1(data):\n",
    "    # Code starts here\n",
    "    data = data.drop(['name','Sales_ID','Postal_code'], axis=1)\n",
    "    # Code ends here\n",
    "    return data"
   ]
  },
  {
   "cell_type": "code",
   "execution_count": 55,
   "metadata": {},
   "outputs": [],
   "source": [
    "car_sales = drop_var1(car_sales)"
   ]
  },
  {
   "cell_type": "markdown",
   "metadata": {},
   "source": [
    "#### T1.9: Handling categorical features: Apply encoding technique to convert categorical variable into numerical. Use try and except blocks.  (weightage - 2 marks)    (AE)"
   ]
  },
  {
   "cell_type": "markdown",
   "metadata": {},
   "source": [
    "#### NOTE:\n",
    "scikit-learn expects all features to be numeric. So how do we include a categorical feature in our model?\n",
    "Transform city variable to 4 categories such as `North_city, South_city, East_city and West_city` according to the below given list."
   ]
  },
  {
   "cell_type": "code",
   "execution_count": 56,
   "metadata": {},
   "outputs": [],
   "source": [
    "# Define regions\n",
    "def city_region(sales_data):\n",
    "    north_cities = ['Dehradun','Mumbai','Jaipur','Indore','Pune','Aurangabad', 'Delhi','Ludhiana', 'kanpur', 'Gangtok', 'Noida']\n",
    "    south_cities = ['Chennai','Mysore', 'Bangalore', 'Nellore', 'Coimbatore','Mangalore','Hyderabad','Vellore','Thrissur']\n",
    "    east_cities = ['Ranchi', 'Kolkata', 'Jamshedpur', 'Patna', 'Bhubaneshwar']\n",
    "    west_cities = ['Ahmedabad','Kochi','Vadodara', 'Surat']\n",
    "\n",
    "    # Transform the City variable to 4 categories\n",
    "    city_dict = {}\n",
    "    for m in sales_data['City'].values:\n",
    "        if m in north_cities:\n",
    "            city_dict[m] = 'North_city'\n",
    "        elif m in south_cities:\n",
    "            city_dict[m] = 'South_city'\n",
    "        elif m in east_cities:\n",
    "            city_dict[m] = 'East_city'\n",
    "        elif m in west_cities:\n",
    "            city_dict[m] = 'West_city'\n",
    "        else:\n",
    "            city_dict[m] = 'NA'\n",
    "    \n",
    "    sales_data['City_region'] = sales_data['City'].apply(lambda x: city_dict[x])\n",
    "\n",
    "    # Print the updated DataFrame\n",
    "    return sales_data"
   ]
  },
  {
   "cell_type": "code",
   "execution_count": 57,
   "metadata": {},
   "outputs": [
    {
     "data": {
      "text/html": [
       "<div>\n",
       "<style scoped>\n",
       "    .dataframe tbody tr th:only-of-type {\n",
       "        vertical-align: middle;\n",
       "    }\n",
       "\n",
       "    .dataframe tbody tr th {\n",
       "        vertical-align: top;\n",
       "    }\n",
       "\n",
       "    .dataframe thead th {\n",
       "        text-align: right;\n",
       "    }\n",
       "</style>\n",
       "<table border=\"1\" class=\"dataframe\">\n",
       "  <thead>\n",
       "    <tr style=\"text-align: right;\">\n",
       "      <th></th>\n",
       "      <th>year</th>\n",
       "      <th>selling_price</th>\n",
       "      <th>km_driven</th>\n",
       "      <th>fuel</th>\n",
       "      <th>seller_type</th>\n",
       "      <th>transmission</th>\n",
       "      <th>owner</th>\n",
       "      <th>mileage</th>\n",
       "      <th>engine</th>\n",
       "      <th>max_power</th>\n",
       "      <th>seats</th>\n",
       "      <th>City</th>\n",
       "      <th>Sales_status</th>\n",
       "      <th>City_region</th>\n",
       "    </tr>\n",
       "  </thead>\n",
       "  <tbody>\n",
       "    <tr>\n",
       "      <th>0</th>\n",
       "      <td>2014</td>\n",
       "      <td>450000</td>\n",
       "      <td>145500</td>\n",
       "      <td>Diesel</td>\n",
       "      <td>Individual</td>\n",
       "      <td>Manual</td>\n",
       "      <td>First Owner</td>\n",
       "      <td>23.40</td>\n",
       "      <td>1248</td>\n",
       "      <td>74.00</td>\n",
       "      <td>5</td>\n",
       "      <td>Mumbai</td>\n",
       "      <td>Y</td>\n",
       "      <td>North_city</td>\n",
       "    </tr>\n",
       "    <tr>\n",
       "      <th>1</th>\n",
       "      <td>2014</td>\n",
       "      <td>370000</td>\n",
       "      <td>120000</td>\n",
       "      <td>Diesel</td>\n",
       "      <td>Individual</td>\n",
       "      <td>Manual</td>\n",
       "      <td>Second Owner</td>\n",
       "      <td>21.14</td>\n",
       "      <td>1498</td>\n",
       "      <td>103.52</td>\n",
       "      <td>5</td>\n",
       "      <td>Ranchi</td>\n",
       "      <td>Y</td>\n",
       "      <td>East_city</td>\n",
       "    </tr>\n",
       "    <tr>\n",
       "      <th>2</th>\n",
       "      <td>2006</td>\n",
       "      <td>158000</td>\n",
       "      <td>140000</td>\n",
       "      <td>Petrol</td>\n",
       "      <td>Individual</td>\n",
       "      <td>Manual</td>\n",
       "      <td>Third Owner</td>\n",
       "      <td>17.70</td>\n",
       "      <td>1497</td>\n",
       "      <td>78.00</td>\n",
       "      <td>5</td>\n",
       "      <td>Noida</td>\n",
       "      <td>Y</td>\n",
       "      <td>North_city</td>\n",
       "    </tr>\n",
       "    <tr>\n",
       "      <th>3</th>\n",
       "      <td>2010</td>\n",
       "      <td>225000</td>\n",
       "      <td>127000</td>\n",
       "      <td>Diesel</td>\n",
       "      <td>Individual</td>\n",
       "      <td>Manual</td>\n",
       "      <td>First Owner</td>\n",
       "      <td>23.00</td>\n",
       "      <td>1396</td>\n",
       "      <td>90.00</td>\n",
       "      <td>5</td>\n",
       "      <td>Dehradun</td>\n",
       "      <td>Y</td>\n",
       "      <td>North_city</td>\n",
       "    </tr>\n",
       "    <tr>\n",
       "      <th>4</th>\n",
       "      <td>2007</td>\n",
       "      <td>130000</td>\n",
       "      <td>120000</td>\n",
       "      <td>Petrol</td>\n",
       "      <td>Individual</td>\n",
       "      <td>Manual</td>\n",
       "      <td>First Owner</td>\n",
       "      <td>16.10</td>\n",
       "      <td>1298</td>\n",
       "      <td>88.20</td>\n",
       "      <td>5</td>\n",
       "      <td>Chennai</td>\n",
       "      <td>Y</td>\n",
       "      <td>South_city</td>\n",
       "    </tr>\n",
       "    <tr>\n",
       "      <th>...</th>\n",
       "      <td>...</td>\n",
       "      <td>...</td>\n",
       "      <td>...</td>\n",
       "      <td>...</td>\n",
       "      <td>...</td>\n",
       "      <td>...</td>\n",
       "      <td>...</td>\n",
       "      <td>...</td>\n",
       "      <td>...</td>\n",
       "      <td>...</td>\n",
       "      <td>...</td>\n",
       "      <td>...</td>\n",
       "      <td>...</td>\n",
       "      <td>...</td>\n",
       "    </tr>\n",
       "    <tr>\n",
       "      <th>7901</th>\n",
       "      <td>2013</td>\n",
       "      <td>320000</td>\n",
       "      <td>110000</td>\n",
       "      <td>Petrol</td>\n",
       "      <td>Individual</td>\n",
       "      <td>Manual</td>\n",
       "      <td>First Owner</td>\n",
       "      <td>18.50</td>\n",
       "      <td>1197</td>\n",
       "      <td>82.85</td>\n",
       "      <td>5</td>\n",
       "      <td>Indore</td>\n",
       "      <td>N</td>\n",
       "      <td>North_city</td>\n",
       "    </tr>\n",
       "    <tr>\n",
       "      <th>7902</th>\n",
       "      <td>2007</td>\n",
       "      <td>135000</td>\n",
       "      <td>119000</td>\n",
       "      <td>Diesel</td>\n",
       "      <td>Individual</td>\n",
       "      <td>Manual</td>\n",
       "      <td>Third Owner</td>\n",
       "      <td>16.80</td>\n",
       "      <td>1493</td>\n",
       "      <td>110.00</td>\n",
       "      <td>5</td>\n",
       "      <td>Dehradun</td>\n",
       "      <td>N</td>\n",
       "      <td>North_city</td>\n",
       "    </tr>\n",
       "    <tr>\n",
       "      <th>7903</th>\n",
       "      <td>2009</td>\n",
       "      <td>382000</td>\n",
       "      <td>120000</td>\n",
       "      <td>Diesel</td>\n",
       "      <td>Individual</td>\n",
       "      <td>Manual</td>\n",
       "      <td>First Owner</td>\n",
       "      <td>19.30</td>\n",
       "      <td>1248</td>\n",
       "      <td>73.90</td>\n",
       "      <td>5</td>\n",
       "      <td>Kolkata</td>\n",
       "      <td>N</td>\n",
       "      <td>East_city</td>\n",
       "    </tr>\n",
       "    <tr>\n",
       "      <th>7904</th>\n",
       "      <td>2013</td>\n",
       "      <td>290000</td>\n",
       "      <td>25000</td>\n",
       "      <td>Diesel</td>\n",
       "      <td>Individual</td>\n",
       "      <td>Manual</td>\n",
       "      <td>First Owner</td>\n",
       "      <td>23.57</td>\n",
       "      <td>1396</td>\n",
       "      <td>70.00</td>\n",
       "      <td>5</td>\n",
       "      <td>Vellore</td>\n",
       "      <td>N</td>\n",
       "      <td>South_city</td>\n",
       "    </tr>\n",
       "    <tr>\n",
       "      <th>7905</th>\n",
       "      <td>2013</td>\n",
       "      <td>290000</td>\n",
       "      <td>25000</td>\n",
       "      <td>Diesel</td>\n",
       "      <td>Individual</td>\n",
       "      <td>Manual</td>\n",
       "      <td>First Owner</td>\n",
       "      <td>23.57</td>\n",
       "      <td>1396</td>\n",
       "      <td>70.00</td>\n",
       "      <td>5</td>\n",
       "      <td>Dehradun</td>\n",
       "      <td>N</td>\n",
       "      <td>North_city</td>\n",
       "    </tr>\n",
       "  </tbody>\n",
       "</table>\n",
       "<p>7906 rows × 14 columns</p>\n",
       "</div>"
      ],
      "text/plain": [
       "      year  selling_price  km_driven    fuel seller_type transmission  \\\n",
       "0     2014         450000     145500  Diesel  Individual       Manual   \n",
       "1     2014         370000     120000  Diesel  Individual       Manual   \n",
       "2     2006         158000     140000  Petrol  Individual       Manual   \n",
       "3     2010         225000     127000  Diesel  Individual       Manual   \n",
       "4     2007         130000     120000  Petrol  Individual       Manual   \n",
       "...    ...            ...        ...     ...         ...          ...   \n",
       "7901  2013         320000     110000  Petrol  Individual       Manual   \n",
       "7902  2007         135000     119000  Diesel  Individual       Manual   \n",
       "7903  2009         382000     120000  Diesel  Individual       Manual   \n",
       "7904  2013         290000      25000  Diesel  Individual       Manual   \n",
       "7905  2013         290000      25000  Diesel  Individual       Manual   \n",
       "\n",
       "             owner  mileage  engine  max_power  seats      City Sales_status  \\\n",
       "0      First Owner    23.40    1248      74.00      5    Mumbai            Y   \n",
       "1     Second Owner    21.14    1498     103.52      5    Ranchi            Y   \n",
       "2      Third Owner    17.70    1497      78.00      5     Noida            Y   \n",
       "3      First Owner    23.00    1396      90.00      5  Dehradun            Y   \n",
       "4      First Owner    16.10    1298      88.20      5   Chennai            Y   \n",
       "...            ...      ...     ...        ...    ...       ...          ...   \n",
       "7901   First Owner    18.50    1197      82.85      5    Indore            N   \n",
       "7902   Third Owner    16.80    1493     110.00      5  Dehradun            N   \n",
       "7903   First Owner    19.30    1248      73.90      5   Kolkata            N   \n",
       "7904   First Owner    23.57    1396      70.00      5   Vellore            N   \n",
       "7905   First Owner    23.57    1396      70.00      5  Dehradun            N   \n",
       "\n",
       "     City_region  \n",
       "0     North_city  \n",
       "1      East_city  \n",
       "2     North_city  \n",
       "3     North_city  \n",
       "4     South_city  \n",
       "...          ...  \n",
       "7901  North_city  \n",
       "7902  North_city  \n",
       "7903   East_city  \n",
       "7904  South_city  \n",
       "7905  North_city  \n",
       "\n",
       "[7906 rows x 14 columns]"
      ]
     },
     "execution_count": 57,
     "metadata": {},
     "output_type": "execute_result"
    }
   ],
   "source": [
    "#apply city_region() in the original data\n",
    "car_sales=city_region(car_sales)\n",
    "car_sales"
   ]
  },
  {
   "cell_type": "markdown",
   "metadata": {},
   "source": [
    "- drop the City variable"
   ]
  },
  {
   "cell_type": "code",
   "execution_count": 58,
   "metadata": {},
   "outputs": [],
   "source": [
    "def drop_var2(data):\n",
    "    data.drop(['City'],axis=1, inplace=True)\n",
    "    return data"
   ]
  },
  {
   "cell_type": "code",
   "execution_count": 59,
   "metadata": {},
   "outputs": [],
   "source": [
    "car_sales = drop_var2(car_sales)"
   ]
  },
  {
   "cell_type": "markdown",
   "metadata": {},
   "source": [
    "#### Encoding technique: convert other categorical variable into factor variable (0,1,2.. categories)"
   ]
  },
  {
   "cell_type": "markdown",
   "metadata": {},
   "source": [
    "#### NOTE:\n",
    "Encode categorical columns in a DataFrame using the `LabelEncoder` from scikit-learn."
   ]
  },
  {
   "cell_type": "code",
   "execution_count": 60,
   "metadata": {},
   "outputs": [],
   "source": [
    "from sklearn.preprocessing import LabelEncoder\n",
    "def encode_categorical_columns(df):    \n",
    "    for m in df.columns:\n",
    "        if str(df[m].dtype) == 'object':\n",
    "            le = LabelEncoder()\n",
    "            le.fit(df[m].unique())\n",
    "            df[m] = le.transform(df[m])\n",
    "    return df"
   ]
  },
  {
   "cell_type": "code",
   "execution_count": 61,
   "metadata": {},
   "outputs": [],
   "source": [
    "# apply it in the original data\n",
    "car_sales=encode_categorical_columns(car_sales)"
   ]
  },
  {
   "cell_type": "code",
   "execution_count": null,
   "metadata": {},
   "outputs": [],
   "source": [
    "# convert City_region variable to numeric datatype\n"
   ]
  },
  {
   "cell_type": "markdown",
   "metadata": {},
   "source": [
    "#### T1.10: Save the cleaned dataset (cleaned_car_sales.xlsx file) by setting the index=False in your GitHub repository for model building process. (This task is for maintaining the version control of datasets) (weightage - 1 mark)      (ME)        "
   ]
  },
  {
   "cell_type": "markdown",
   "metadata": {},
   "source": [
    "#### Refer to the Github document from Lumen to create the repository and steps to commit \n",
    "#### Add your Github repository link below "
   ]
  },
  {
   "cell_type": "code",
   "execution_count": null,
   "metadata": {},
   "outputs": [],
   "source": []
  },
  {
   "cell_type": "markdown",
   "metadata": {},
   "source": [
    "#### NOTE:\n",
    "Save the DataFrame car_sales to an Excel file named __\"cleaned_car_sales.xlsx\"__ in the `Project` folder on the desktop without including the index column. "
   ]
  },
  {
   "cell_type": "code",
   "execution_count": 62,
   "metadata": {},
   "outputs": [],
   "source": [
    "# Save the cleaned data set\n",
    "car_sales.to_excel('cleaned_car_sales.xlsx', index=False)"
   ]
  },
  {
   "cell_type": "markdown",
   "metadata": {},
   "source": []
  },
  {
   "cell_type": "code",
   "execution_count": null,
   "metadata": {},
   "outputs": [],
   "source": [
    "# save it in github repository"
   ]
  },
  {
   "cell_type": "markdown",
   "metadata": {},
   "source": [
    "### Task 2: Build Multiple Linear regression model for predicting the price of a used car. (weightage - 30 marks)               "
   ]
  },
  {
   "cell_type": "markdown",
   "metadata": {},
   "source": [
    "#### T2.1: Load the cleaned dataset and divide it into predictor and target values (X & y) (weightage – 2 marks) (AE)"
   ]
  },
  {
   "cell_type": "code",
   "execution_count": 63,
   "metadata": {},
   "outputs": [],
   "source": [
    "# load the cleaned data\n",
    "def load_the_cleaned_dataset(dataset_location):\n",
    "        cleaned_car_sales = None\n",
    "        # Code starts here\n",
    "        cleaned_car_sales = pd.read_excel('cleaned_car_sales.xlsx')\n",
    "        # Code ends here\n",
    "        return cleaned_car_sales"
   ]
  },
  {
   "cell_type": "code",
   "execution_count": 64,
   "metadata": {},
   "outputs": [],
   "source": [
    "dataset_location = 'cleaned_car_sales.xlsx'\n",
    "cleaned_car_sales=load_the_cleaned_dataset(dataset_location)    "
   ]
  },
  {
   "cell_type": "markdown",
   "metadata": {},
   "source": [
    "- Separate independent features and target variable"
   ]
  },
  {
   "cell_type": "code",
   "execution_count": 65,
   "metadata": {},
   "outputs": [],
   "source": [
    "# Separate independent features and target variable\n",
    "def separate_data_and_target(df):\n",
    "    X, y = np.ndarray([]),np.ndarray([])\n",
    "    #code starts here\n",
    "    x_cols = list(cleaned_car_sales.columns)\n",
    "    x_cols.remove('Sales_status')\n",
    "    X = df.loc[:, x_cols]\n",
    "    y = df.loc[:, ['Sales_status']]\n",
    "    #code ends here\n",
    "    return X,y"
   ]
  },
  {
   "cell_type": "code",
   "execution_count": 66,
   "metadata": {},
   "outputs": [],
   "source": [
    "# dependent : X, independent : y\n",
    "X, y = separate_data_and_target(cleaned_car_sales)"
   ]
  },
  {
   "cell_type": "code",
   "execution_count": 67,
   "metadata": {},
   "outputs": [
    {
     "name": "stdout",
     "output_type": "stream",
     "text": [
      "   year  selling_price  km_driven  fuel  seller_type  transmission  owner  \\\n",
      "0  2014         450000     145500     1            1             1      0   \n",
      "1  2014         370000     120000     1            1             1      1   \n",
      "2  2006         158000     140000     2            1             1      2   \n",
      "3  2010         225000     127000     1            1             1      0   \n",
      "4  2007         130000     120000     2            1             1      0   \n",
      "\n",
      "   mileage  engine  max_power  seats  City_region  \n",
      "0    23.40    1248      74.00      5            1  \n",
      "1    21.14    1498     103.52      5            0  \n",
      "2    17.70    1497      78.00      5            1  \n",
      "3    23.00    1396      90.00      5            1  \n",
      "4    16.10    1298      88.20      5            2  \n"
     ]
    }
   ],
   "source": [
    "print(X.head())"
   ]
  },
  {
   "cell_type": "code",
   "execution_count": 68,
   "metadata": {},
   "outputs": [
    {
     "name": "stdout",
     "output_type": "stream",
     "text": [
      "   Sales_status\n",
      "0             1\n",
      "1             1\n",
      "2             1\n",
      "3             1\n",
      "4             1\n"
     ]
    }
   ],
   "source": [
    "print(y.head())"
   ]
  },
  {
   "cell_type": "markdown",
   "metadata": {},
   "source": [
    "#### T2.2: Split the dataset into train and test in the ratio of 80:20 and apply the scaling technique -RobustScaler. (weightage – 4 marks) (AE)"
   ]
  },
  {
   "cell_type": "markdown",
   "metadata": {},
   "source": [
    "#### NOTE:\n",
    "\n",
    "Split the dataset into training and testing. Separate the dependent (data) and independent (target) columns/fields of the dataset and apply the scaling technique -RobustScaler.The requirement is to build a model that performs regression task."
   ]
  },
  {
   "cell_type": "code",
   "execution_count": 69,
   "metadata": {},
   "outputs": [],
   "source": [
    "from sklearn.model_selection import train_test_split\n",
    "from sklearn.preprocessing import RobustScaler\n",
    "\n",
    "def split_into_train_and_test_normalize_features(X,y):\n",
    "    X_train, X_test,y_train,y_test = np.ndarray([]),np.ndarray([]),np.ndarray([]),np.ndarray([])\n",
    "    # Splitting dataset to train and test sets 80% train and 20% test\n",
    "    X_train, X_test,y_train,y_test = train_test_split(X, y, test_size=0.2, random_state=32)\n",
    "\n",
    "        \n",
    "    #Normalizes selected features in a dataset \n",
    "    # Instantiate the RobustScaler\n",
    "    scaler = RobustScaler().fit(X)\n",
    "\n",
    "    # Fit the scaler to the training data and transform it\n",
    "    X_train = scaler.transform(X_train)\n",
    "\n",
    "    # Transform the testing data using the same scaler\n",
    "    X_test = scaler.transform(X_test)\n",
    "   \n",
    "    return X_train, X_test,y_train,y_test"
   ]
  },
  {
   "cell_type": "code",
   "execution_count": 70,
   "metadata": {},
   "outputs": [],
   "source": [
    "# split into training and testing \n",
    "X_train, X_test,y_train,y_test=split_into_train_and_test_normalize_features(X,y)"
   ]
  },
  {
   "cell_type": "markdown",
   "metadata": {},
   "source": [
    "#### T2.3: Validate the assumptions of Linear regression model- Linearity, multicollinearity (weightage -6 marks)   (ME)"
   ]
  },
  {
   "cell_type": "markdown",
   "metadata": {},
   "source": [
    "#### NOTE:\n",
    "Use `pairplot`"
   ]
  },
  {
   "cell_type": "code",
   "execution_count": null,
   "metadata": {},
   "outputs": [],
   "source": [
    "#Linearity\n",
    "sns.pairplot(pd.DataFrame(X_train))"
   ]
  },
  {
   "cell_type": "markdown",
   "metadata": {},
   "source": [
    "##### Check the multicollinearity using VIF for all the variables in the model"
   ]
  },
  {
   "cell_type": "markdown",
   "metadata": {},
   "source": [
    "#### NOTE:\n",
    "* Splits the data into training and testing sets using the train_test_split function from scikit-learn. \n",
    "* Define the dependent variable (y1) and independent variables (X1) using the `dmatrices` function from the `patsy` module. \n",
    "* For each independent variable in X1, it calculates the VIF using the variance_inflation_factor function from the statsmodels.stats.outliers_influence module. VIF measures how much the variance of an estimated regression coefficient increases if your predictors are correlated.\n",
    "* Store the calculated VIF values along with the corresponding feature names in a DataFrame `vif` to display the VIF values for each feature."
   ]
  },
  {
   "cell_type": "code",
   "execution_count": 73,
   "metadata": {},
   "outputs": [],
   "source": [
    "from statsmodels.stats.outliers_influence import variance_inflation_factor\n",
    "from patsy import dmatrices\n",
    "\n",
    "def multicollinearity(data):   \n",
    "    train, test = train_test_split( data,test_size = 0.2,random_state = 1234 )\n",
    "    \n",
    "    # For each X, calculate VIF and save in dataframe\n",
    "    formula = 'Sales_status ~ year+selling_price+km_driven+fuel+seller_type+transmission+owner+mileage+engine+max_power+seats+City_region'\n",
    "    y, X = dmatrices(formula, train, return_type='dataframe')\n",
    "\n",
    "    vif = pd.DataFrame([variance_inflation_factor(X.values, i) for i in range(X.shape[1])], index=X.columns)\n",
    "    vif.columns = ['variance_inflation_factor']\n",
    "    \n",
    "    return vif"
   ]
  },
  {
   "cell_type": "code",
   "execution_count": 74,
   "metadata": {},
   "outputs": [
    {
     "data": {
      "text/html": [
       "<div>\n",
       "<style scoped>\n",
       "    .dataframe tbody tr th:only-of-type {\n",
       "        vertical-align: middle;\n",
       "    }\n",
       "\n",
       "    .dataframe tbody tr th {\n",
       "        vertical-align: top;\n",
       "    }\n",
       "\n",
       "    .dataframe thead th {\n",
       "        text-align: right;\n",
       "    }\n",
       "</style>\n",
       "<table border=\"1\" class=\"dataframe\">\n",
       "  <thead>\n",
       "    <tr style=\"text-align: right;\">\n",
       "      <th></th>\n",
       "      <th>variance_inflation_factor</th>\n",
       "    </tr>\n",
       "  </thead>\n",
       "  <tbody>\n",
       "    <tr>\n",
       "      <th>Intercept</th>\n",
       "      <td>579535.456844</td>\n",
       "    </tr>\n",
       "    <tr>\n",
       "      <th>year</th>\n",
       "      <td>2.142417</td>\n",
       "    </tr>\n",
       "    <tr>\n",
       "      <th>selling_price</th>\n",
       "      <td>3.122467</td>\n",
       "    </tr>\n",
       "    <tr>\n",
       "      <th>km_driven</th>\n",
       "      <td>1.622651</td>\n",
       "    </tr>\n",
       "    <tr>\n",
       "      <th>fuel</th>\n",
       "      <td>1.910037</td>\n",
       "    </tr>\n",
       "    <tr>\n",
       "      <th>seller_type</th>\n",
       "      <td>1.259228</td>\n",
       "    </tr>\n",
       "    <tr>\n",
       "      <th>transmission</th>\n",
       "      <td>1.766110</td>\n",
       "    </tr>\n",
       "    <tr>\n",
       "      <th>owner</th>\n",
       "      <td>1.386344</td>\n",
       "    </tr>\n",
       "    <tr>\n",
       "      <th>mileage</th>\n",
       "      <td>2.679423</td>\n",
       "    </tr>\n",
       "    <tr>\n",
       "      <th>engine</th>\n",
       "      <td>5.183867</td>\n",
       "    </tr>\n",
       "    <tr>\n",
       "      <th>max_power</th>\n",
       "      <td>4.116513</td>\n",
       "    </tr>\n",
       "    <tr>\n",
       "      <th>seats</th>\n",
       "      <td>2.224512</td>\n",
       "    </tr>\n",
       "    <tr>\n",
       "      <th>City_region</th>\n",
       "      <td>1.001949</td>\n",
       "    </tr>\n",
       "  </tbody>\n",
       "</table>\n",
       "</div>"
      ],
      "text/plain": [
       "               variance_inflation_factor\n",
       "Intercept                  579535.456844\n",
       "year                            2.142417\n",
       "selling_price                   3.122467\n",
       "km_driven                       1.622651\n",
       "fuel                            1.910037\n",
       "seller_type                     1.259228\n",
       "transmission                    1.766110\n",
       "owner                           1.386344\n",
       "mileage                         2.679423\n",
       "engine                          5.183867\n",
       "max_power                       4.116513\n",
       "seats                           2.224512\n",
       "City_region                     1.001949"
      ]
     },
     "execution_count": 74,
     "metadata": {},
     "output_type": "execute_result"
    }
   ],
   "source": [
    "multicollinearity(cleaned_car_sales)"
   ]
  },
  {
   "cell_type": "markdown",
   "metadata": {},
   "source": [
    "#### T2.4: Build a multiple linear regression model on training data using OLS method and sklearn library . (weightage - 15 marks) (AE)"
   ]
  },
  {
   "cell_type": "markdown",
   "metadata": {},
   "source": [
    "#### NOTE:\n",
    "* Split the dataset into train and test in the ratio of 80:20.\n",
    "* Set the random_state to 1234\n",
    "* Build the OLS model using statsmodels formula API\n",
    "* The function `fit_the_model_ols` should return the OLS Model and the test data."
   ]
  },
  {
   "cell_type": "markdown",
   "metadata": {},
   "source": [
    "**Build a model using OLS**"
   ]
  },
  {
   "cell_type": "code",
   "execution_count": null,
   "metadata": {},
   "outputs": [],
   "source": [
    "import statsmodels.formula.api as smf\n",
    "def fit_the_model_ols(data):    \n",
    "    ols_model = None\n",
    "    train, test = np.ndarray([]),np.ndarray([])\n",
    "    # Code starts here\n",
    "    \n",
    "    # Building the OLS model using statsmodels formula API\n",
    "        \n",
    "    # Return the model and the test data    \n",
    "    return ols_model,test"
   ]
  },
  {
   "cell_type": "code",
   "execution_count": null,
   "metadata": {},
   "outputs": [],
   "source": [
    "# Fit the model\n",
    "ols_model, test_data = fit_the_model_ols(cleaned_car_sales)"
   ]
  },
  {
   "cell_type": "code",
   "execution_count": null,
   "metadata": {},
   "outputs": [],
   "source": [
    "# Get the summary of the fitted model\n",
    "summary = ols_model.summary()\n",
    "# Print the summary\n",
    "print(summary)"
   ]
  },
  {
   "cell_type": "markdown",
   "metadata": {},
   "source": [
    "**Build a linear model using sklearn library** "
   ]
  },
  {
   "cell_type": "markdown",
   "metadata": {},
   "source": [
    "#### NOTE:\n",
    "* Initializes a linear regression model object.\n",
    "* Fit the model to the training data (X_train and y_train) using the fit() method of the linear regression object. "
   ]
  },
  {
   "cell_type": "code",
   "execution_count": null,
   "metadata": {},
   "outputs": [],
   "source": [
    "def fit_the_model_on_the_training_data(data,X_train:np.ndarray,y_train:np.ndarray):\n",
    "    regression = None\n",
    "    # Code starts here\n",
    "\n",
    "    # Code ends here \n",
    "    return regression"
   ]
  },
  {
   "cell_type": "code",
   "execution_count": null,
   "metadata": {},
   "outputs": [],
   "source": [
    "# train the training data \n",
    "sklearn_model=fit_the_model_on_the_training_data(cleaned_car_sales,X_train,y_train)"
   ]
  },
  {
   "cell_type": "markdown",
   "metadata": {},
   "source": [
    "#### T2.5 Model Versioning:    (weightage -3 marks)  (ME)\n",
    "\n",
    "Save the initial version of a linear regression model OLS codebase named 'first_model' to a version \n",
    "control system GitHub using git commands for facilitating collaboration, tracking \n",
    "changes, and ensuring transparency in model development.\n",
    "\n",
    "Save the version of a linear regression model (sklearn) codebase named 'second_model' to a version control system GitHub using git commandsin git bash, if required facilitating collaboration, tracking changes, and ensuring transparency in model development."
   ]
  },
  {
   "cell_type": "markdown",
   "metadata": {},
   "source": [
    "#### Model Versioning: \n",
    "\n",
    "Save the above version of a linear regression model (sklearn) codebase named 'second_model' to a version control system GitHub using git commandsin git bash, if required facilitating collaboration, tracking changes, and ensuring transparency in model development."
   ]
  },
  {
   "cell_type": "markdown",
   "metadata": {},
   "source": [
    "### Task 3: Evaluate the performance of the model using the right evaluation metrics. (weightage - 35 marks)\n"
   ]
  },
  {
   "cell_type": "markdown",
   "metadata": {},
   "source": [
    "#### T3.1: Bring the initial version of a linear regression model 'first_model' and second version ‘second_model’ from a GitHub using git commands and evaluate the model (weightage - 2 marks) (ME)"
   ]
  },
  {
   "cell_type": "markdown",
   "metadata": {},
   "source": [
    "#### Model Versioning:\n",
    "\n",
    "Bring the initial version of a linear regression model 'first_model' from a GitHub using git commands and evaluate the model."
   ]
  },
  {
   "cell_type": "code",
   "execution_count": null,
   "metadata": {},
   "outputs": [],
   "source": []
  },
  {
   "cell_type": "markdown",
   "metadata": {},
   "source": [
    "Bring the second version of a linear regression model sklearn 'second_model' from GitHub using git commands, and evaluate the model."
   ]
  },
  {
   "cell_type": "code",
   "execution_count": null,
   "metadata": {},
   "outputs": [],
   "source": []
  },
  {
   "cell_type": "markdown",
   "metadata": {},
   "source": [
    "#### T3.2: Evaluate the linear regression model with evaluation metrics R2 and RMSE using OLS and sklearn library. (weightage - 4 marks) (AE)"
   ]
  },
  {
   "cell_type": "markdown",
   "metadata": {},
   "source": [
    "**Evaluate the OLS model**"
   ]
  },
  {
   "cell_type": "markdown",
   "metadata": {},
   "source": [
    "#### NOTE\n",
    "* Make the predictions on the test set using the provided OLS linear regression model \n",
    "* Calculate the RMSE by comparing the predicted selling prices with the actual selling prices in the test set, using the mean_squared_error function from scikit-learn.\n",
    "* Calculate the R-squared (R²) value using the rsquared attribute of the linear regression model.\n",
    "* Return both `RMSE` and `R²` value."
   ]
  },
  {
   "cell_type": "code",
   "execution_count": null,
   "metadata": {},
   "outputs": [],
   "source": [
    "from sklearn.metrics import mean_squared_error\n",
    "def ols_calculate_rmse_r2(model, test_data):\n",
    "    rmse,r_squared = 0.0,0.0\n",
    "    # Making predictions on the test set\n",
    "    \n",
    "\n",
    "    # Calculating RMSE\n",
    "    \n",
    "    \n",
    "    return rmse,r_squared"
   ]
  },
  {
   "cell_type": "code",
   "execution_count": null,
   "metadata": {},
   "outputs": [],
   "source": [
    "ols_rmse, ols_r_squared = ols_calculate_rmse_r2(ols_model, test_data)"
   ]
  },
  {
   "cell_type": "code",
   "execution_count": null,
   "metadata": {},
   "outputs": [],
   "source": [
    "# OLS Model RMSE value\n",
    "print (ols_rmse)"
   ]
  },
  {
   "cell_type": "code",
   "execution_count": null,
   "metadata": {},
   "outputs": [],
   "source": [
    "# OLS R2 value\n",
    "print (ols_r_squared)"
   ]
  },
  {
   "cell_type": "markdown",
   "metadata": {},
   "source": [
    "**Evaluate the Sklearn model**"
   ]
  },
  {
   "cell_type": "markdown",
   "metadata": {},
   "source": [
    "#### NOTE:\n",
    "* Make the predictions using a trained scikit-learn model (model) on a test dataset (X_test)\n",
    "* Using the trained model predict the target variable for the provided test dataset (X_test) using the predict() method of the model.\n",
    "* Return the predicted target variable values"
   ]
  },
  {
   "cell_type": "code",
   "execution_count": null,
   "metadata": {},
   "outputs": [],
   "source": [
    "def test_the_sklearn_model(model, X_test: np.ndarray) -> np.ndarray:\n",
    "    y_prediction = np.ndarray([])\n",
    "    # code starts here\n",
    "\n",
    "    # code ends here\n",
    "    return y_prediction"
   ]
  },
  {
   "cell_type": "code",
   "execution_count": null,
   "metadata": {},
   "outputs": [],
   "source": [
    "y_pred=test_the_sklearn_model(sklearn_model,X_test)\n",
    "y_pred"
   ]
  },
  {
   "cell_type": "markdown",
   "metadata": {},
   "source": [
    "**Evaluate the model with evaluation metric R2 and RMSE**"
   ]
  },
  {
   "cell_type": "code",
   "execution_count": null,
   "metadata": {},
   "outputs": [],
   "source": [
    "from sklearn.metrics import r2_score, mean_squared_error\n",
    "def calculate_r_squared_sklearn(y_true, y_pred):\n",
    "    \"\"\"\n",
    "    Calculate the R-squared (coefficient of determination) metric using scikit-learn.\n",
    "\n",
    "    Parameters:\n",
    "    y_true : numpy.ndarray\n",
    "        True target values.\n",
    "    y_pred : numpy.ndarray\n",
    "        Predicted target values.\n",
    "\n",
    "    Returns:\n",
    "    float\n",
    "        R-squared value.\n",
    "    \"\"\"\n",
    "    r_squared = None\n",
    "    # Code starts here\n",
    "  \n",
    "    # Code ends here\n",
    "    return r_squared"
   ]
  },
  {
   "cell_type": "code",
   "execution_count": null,
   "metadata": {},
   "outputs": [],
   "source": [
    "def calculate_rmse_sklearn(y_true, y_pred):\n",
    "    \"\"\"\n",
    "    Calculate the Root Mean Squared Error (RMSE) metric using scikit-learn.\n",
    "\n",
    "    Parameters:\n",
    "    y_true : numpy.ndarray\n",
    "        True target values.\n",
    "    y_pred : numpy.ndarray\n",
    "        Predicted target values.\n",
    "\n",
    "    Returns:\n",
    "    float\n",
    "        RMSE value.\n",
    "    \"\"\"\n",
    "    rmse = None\n",
    "    # Code starts here\n",
    "   \n",
    "    # Code ends here     \n",
    "    return rmse"
   ]
  },
  {
   "cell_type": "code",
   "execution_count": null,
   "metadata": {},
   "outputs": [],
   "source": [
    "# Calculate R-squared\n",
    "r_squared = calculate_r_squared_sklearn(y_test, y_pred)\n",
    "print(r_squared)"
   ]
  },
  {
   "cell_type": "code",
   "execution_count": null,
   "metadata": {},
   "outputs": [],
   "source": [
    "# Calculate RMSE\n",
    "rmse = calculate_rmse_sklearn(y_test, y_pred)\n",
    "print(rmse)"
   ]
  },
  {
   "cell_type": "markdown",
   "metadata": {},
   "source": [
    "#### T3.3:Remove the insignificant variables which identified by OLS and multicollinearity -VIF technique. Then apply log transformation on target variable and build the model using sklearn library. Save the version of this linear regression model named 'final_model' to a Github, and evaluate it with R2 and RMSE(weightage - 5 marks) (AE)"
   ]
  },
  {
   "cell_type": "markdown",
   "metadata": {},
   "source": [
    "**Remove insignificant variable**\n",
    "#### NOTE:\n",
    "* Because of multicollinearity issue drop the variable engine\n",
    "* Because of insignificance drop the variables - City_region, owner, Sales_status"
   ]
  },
  {
   "cell_type": "code",
   "execution_count": null,
   "metadata": {},
   "outputs": [],
   "source": [
    "def drop_variables(data):\n",
    "    \n",
    "    return data"
   ]
  },
  {
   "cell_type": "code",
   "execution_count": null,
   "metadata": {},
   "outputs": [],
   "source": [
    "cleaned_car_sales=drop_variables(cleaned_car_sales)"
   ]
  },
  {
   "cell_type": "markdown",
   "metadata": {},
   "source": [
    "**Apply Log transformation on target variable**\n",
    "\n",
    "#### NOTE:\n",
    "* Transform the target variable 'selling_price' into its natural logarithm ('ln_selling_price') using the numpy log function\n",
    "* Return the ln_selling_price' column, which contains the transformed target variable values."
   ]
  },
  {
   "cell_type": "code",
   "execution_count": null,
   "metadata": {},
   "outputs": [],
   "source": [
    "def target_transform(data):\n",
    "   \n",
    "   return data[\"ln_selling_price\"]"
   ]
  },
  {
   "cell_type": "code",
   "execution_count": null,
   "metadata": {},
   "outputs": [],
   "source": [
    "target_transform(cleaned_car_sales)"
   ]
  },
  {
   "cell_type": "markdown",
   "metadata": {},
   "source": [
    "**Separate independent features and target variable**\n",
    "#### NOTE:\n",
    "* Extract the feature variables (X) by dropping the columns 'ln_selling_price' and 'selling_price' from the DataFrame df using the drop() method\n",
    "* Extract the target variable (y) by selecting only the 'ln_selling_price' column from the DataFrame df."
   ]
  },
  {
   "cell_type": "code",
   "execution_count": null,
   "metadata": {},
   "outputs": [],
   "source": [
    "def separate_data_and_target_new(df):\n",
    "    X,y = np.ndarray([]),np.ndarray([])\n",
    "    # Code starts here\n",
    "   \n",
    "    # Code ends here\n",
    "    return X,y"
   ]
  },
  {
   "cell_type": "code",
   "execution_count": null,
   "metadata": {},
   "outputs": [],
   "source": [
    "X, y = separate_data_and_target_new(cleaned_car_sales)"
   ]
  },
  {
   "cell_type": "code",
   "execution_count": null,
   "metadata": {},
   "outputs": [],
   "source": [
    "# split into training and testing \n",
    "X_train, X_test,y_train,y_test=split_into_train_and_test_normalize_features(X,y)"
   ]
  },
  {
   "cell_type": "code",
   "execution_count": null,
   "metadata": {},
   "outputs": [],
   "source": [
    "final_model=fit_the_model_on_the_training_data(cleaned_car_sales,X_train,y_train)"
   ]
  },
  {
   "cell_type": "markdown",
   "metadata": {},
   "source": [
    "#### Model Versioning: \n",
    "\n",
    "Save the above version of a linear regression model (sklearn) codebase named 'final_model' to a version control system GitHub using git commandsin git bash, if required facilitating collaboration, tracking changes, and ensuring transparency in model development."
   ]
  },
  {
   "cell_type": "code",
   "execution_count": null,
   "metadata": {},
   "outputs": [],
   "source": []
  },
  {
   "cell_type": "markdown",
   "metadata": {},
   "source": [
    "#### Model Versioning: \n",
    "\n",
    "Bring the above version of a linear regression model skelarn 'final_model' from GitHub using git commands, and evaluate the model."
   ]
  },
  {
   "cell_type": "code",
   "execution_count": null,
   "metadata": {},
   "outputs": [],
   "source": []
  },
  {
   "cell_type": "code",
   "execution_count": null,
   "metadata": {},
   "outputs": [],
   "source": [
    "#Test the model on the testing dataset and return the predicted values for the test dataset\n",
    "def test_the_finalmodel(model1, X_test): \n",
    "    y_prediction = np.ndarray([])\n",
    "    # code starts here\n",
    "   \n",
    "    # code ends here\n",
    "    return y_prediction"
   ]
  },
  {
   "cell_type": "code",
   "execution_count": null,
   "metadata": {},
   "outputs": [],
   "source": [
    "#prediction\n",
    "y_pred_1=test_the_finalmodel(final_model, X_test)"
   ]
  },
  {
   "cell_type": "code",
   "execution_count": null,
   "metadata": {},
   "outputs": [],
   "source": [
    "def calculate_r_squared_finalmodel(y_true, y_pred):\n",
    "    \"\"\"\n",
    "    Calculate the R-squared (coefficient of determination) metric using scikit-learn.\n",
    "\n",
    "    Parameters:\n",
    "    y_true : numpy.ndarray\n",
    "        True target values.\n",
    "    y_pred : numpy.ndarray\n",
    "        Predicted target values.\n",
    "\n",
    "    Returns:\n",
    "    float\n",
    "        R-squared value.\n",
    "    \"\"\"\n",
    "    r_squared = None\n",
    "    # Code starts here\n",
    "\n",
    "    # Code ends here \n",
    "    return r_squared"
   ]
  },
  {
   "cell_type": "code",
   "execution_count": null,
   "metadata": {},
   "outputs": [],
   "source": [
    "def calculate_rmse_finalmodel(y_true, y_pred):\n",
    "    \"\"\"\n",
    "    Calculate the Root Mean Squared Error (RMSE) metric using scikit-learn.\n",
    "\n",
    "    Parameters:\n",
    "    y_true : numpy.ndarray\n",
    "        True target values.\n",
    "    y_pred : numpy.ndarray\n",
    "        Predicted target values.\n",
    "\n",
    "    Returns:\n",
    "    float\n",
    "        RMSE value.\n",
    "    \"\"\"\n",
    "    rmse = None\n",
    "    # Code starts here\n",
    "\n",
    "\n",
    "    # Code ends here \n",
    "    \n",
    "    return rmse"
   ]
  },
  {
   "cell_type": "code",
   "execution_count": null,
   "metadata": {},
   "outputs": [],
   "source": [
    "#r-squared\n",
    "r_squared_final_model = calculate_r_squared_finalmodel(y_test, y_pred_1)\n",
    "print(r_squared_final_model)"
   ]
  },
  {
   "cell_type": "code",
   "execution_count": null,
   "metadata": {},
   "outputs": [],
   "source": [
    "#rmse\n",
    "rmse_final_model = calculate_rmse_finalmodel(y_test, y_pred_1)\n",
    "print(rmse_final_model)"
   ]
  },
  {
   "cell_type": "markdown",
   "metadata": {},
   "source": [
    "#### T3.4 Interpret R2 value and explain how one-unit change in mileage impacts the predicted sales price? (weightage - 3 marks) (ME)"
   ]
  },
  {
   "cell_type": "markdown",
   "metadata": {},
   "source": [
    "- An R-squared (R2) value of 0.86 indicates that approximately 86% of the variance in the target variable\n",
    "- The model is able to explain a large proportion of the variability in the sales prices of used cars based on the chosen features.\n",
    "- R2 value of 0.86 indicates a strong relationship between the features and the sales prices of used cars, suggesting that the model has good predictive power."
   ]
  },
  {
   "cell_type": "code",
   "execution_count": null,
   "metadata": {},
   "outputs": [],
   "source": [
    "# Get the coefficient for the 'km_driven' feature\n",
    "def coefficient_km():\n",
    "    km_driven_coefficient = None\n",
    "    # Code starts here\n",
    " \n",
    "    # Code ends here\n",
    "    return km_driven_coefficient"
   ]
  },
  {
   "cell_type": "code",
   "execution_count": null,
   "metadata": {},
   "outputs": [],
   "source": [
    "coefficient_km()"
   ]
  },
  {
   "cell_type": "markdown",
   "metadata": {},
   "source": [
    "#### T3.5: Ensure residues are random i.e. normally distributed using histplot / QQ plot (weightage - 2 marks) (ME)\n",
    "#### NOTE:\n",
    "* Create a histogram plot of the residuals (the differences between the actual and predicted values of the target variable) using Seaborn's histplot function. "
   ]
  },
  {
   "cell_type": "code",
   "execution_count": null,
   "metadata": {},
   "outputs": [],
   "source": [
    "def residual_plot(y_test, y_pred):\n",
    "\n",
    "\n",
    "  return"
   ]
  },
  {
   "cell_type": "code",
   "execution_count": null,
   "metadata": {},
   "outputs": [],
   "source": [
    "residual_plot(y_test, y_pred_1)"
   ]
  },
  {
   "cell_type": "markdown",
   "metadata": {},
   "source": [
    "#### NOTE:\n",
    "* Generate a Q-Q plot to visually assess the normality of residuals. "
   ]
  },
  {
   "cell_type": "code",
   "execution_count": null,
   "metadata": {},
   "outputs": [],
   "source": [
    "# Add Q-Q plot for residual normality\n",
    "def QQ_plot(y_test, y_pred):\n",
    "\n",
    "    return"
   ]
  },
  {
   "cell_type": "code",
   "execution_count": null,
   "metadata": {},
   "outputs": [],
   "source": [
    "QQ_plot(y_test,y_pred_1)"
   ]
  },
  {
   "cell_type": "markdown",
   "metadata": {},
   "source": [
    "#### T3.6 Utilize Lime/SHAP libraries, explain the prediction of your regression model and give inferences. (weightage - 4 marks)  (ME)"
   ]
  },
  {
   "cell_type": "code",
   "execution_count": null,
   "metadata": {},
   "outputs": [],
   "source": []
  },
  {
   "cell_type": "markdown",
   "metadata": {},
   "source": [
    "#### T3.7:Implement the unit test case and deploy a model using Flask / Streamlit. (weightage - 15 marks) (ME)"
   ]
  },
  {
   "cell_type": "code",
   "execution_count": null,
   "metadata": {},
   "outputs": [],
   "source": []
  },
  {
   "cell_type": "code",
   "execution_count": null,
   "metadata": {},
   "outputs": [],
   "source": []
  },
  {
   "cell_type": "code",
   "execution_count": null,
   "metadata": {},
   "outputs": [],
   "source": []
  },
  {
   "cell_type": "code",
   "execution_count": null,
   "metadata": {},
   "outputs": [],
   "source": []
  },
  {
   "cell_type": "markdown",
   "metadata": {},
   "source": [
    "### Task 4: Summarize the findings of the analysis and draw conclusions with PPT / PDF. (weightage - 15 marks) (ME)"
   ]
  },
  {
   "cell_type": "code",
   "execution_count": null,
   "metadata": {},
   "outputs": [],
   "source": []
  },
  {
   "cell_type": "markdown",
   "metadata": {},
   "source": [
    "## Comparing linear regression with other models\n",
    "\n",
    "Advantages of linear regression:\n",
    "\n",
    "\n",
    "\n",
    "Disadvantages of linear regression:\n",
    "\n",
    "\n"
   ]
  },
  {
   "cell_type": "markdown",
   "metadata": {},
   "source": [
    "### Final Submission guidelines:\n",
    "\n",
    "* Download the Jupyter notebook in the format of html.\n",
    "* Upload it in the lumen (UNext LMS)\n",
    "* Take a screenshot of T3.7 (Deployment) and upload it in the lumen (UNext LMS) \n",
    "* Summarized PPT/ PDF prepared in Task 4 to be uploaded in the lumen (UNext LMS)"
   ]
  },
  {
   "cell_type": "markdown",
   "metadata": {},
   "source": [
    "-------------------------------------------------- **ASSESSMENT ENDS HERE** ---------------------------------------------------------"
   ]
  }
 ],
 "metadata": {
  "kernelspec": {
   "display_name": "Python 3 (ipykernel)",
   "language": "python",
   "name": "python3"
  },
  "language_info": {
   "codemirror_mode": {
    "name": "ipython",
    "version": 3
   },
   "file_extension": ".py",
   "mimetype": "text/x-python",
   "name": "python",
   "nbconvert_exporter": "python",
   "pygments_lexer": "ipython3",
   "version": "3.8.10"
  },
  "vscode": {
   "interpreter": {
    "hash": "ead1b95f633dc9c51826328e1846203f51a198c6fb5f2884a80417ba131d4e82"
   }
  }
 },
 "nbformat": 4,
 "nbformat_minor": 2
}
